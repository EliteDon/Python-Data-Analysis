{
 "cells": [
  {
   "cell_type": "code",
   "execution_count": 2,
   "id": "ba712212-97d4-4201-84a8-d99823c45390",
   "metadata": {},
   "outputs": [],
   "source": [
    "import pandas as pd"
   ]
  },
  {
   "cell_type": "code",
   "execution_count": 3,
   "id": "f13adb27-2f5d-4338-9f5a-c0e50d70ae72",
   "metadata": {},
   "outputs": [
    {
     "data": {
      "text/plain": [
       "0   -1.2\n",
       "1    3.7\n",
       "2    2.5\n",
       "3   -8.2\n",
       "4    6.3\n",
       "dtype: float64"
      ]
     },
     "execution_count": 3,
     "metadata": {},
     "output_type": "execute_result"
    }
   ],
   "source": [
    "s1 = pd.Series([-1.2,3.7,2.5,-8.2,6.3])\n",
    "s1"
   ]
  },
  {
   "cell_type": "code",
   "execution_count": 5,
   "id": "9b3c38f6-a698-47a7-a5c7-dc2d71ecee5d",
   "metadata": {},
   "outputs": [
    {
     "name": "stdout",
     "output_type": "stream",
     "text": [
      "RangeIndex(start=0, stop=5, step=1)\n",
      "[-1.2  3.7  2.5 -8.2  6.3]\n"
     ]
    }
   ],
   "source": [
    "print(s1.index)\n",
    "print(s1.values)"
   ]
  },
  {
   "cell_type": "code",
   "execution_count": 11,
   "id": "66dc45e7-03d8-431e-a24f-adffb6506f18",
   "metadata": {},
   "outputs": [
    {
     "data": {
      "text/plain": [
       "5   -1.2\n",
       "4    3.7\n",
       "3    2.5\n",
       "2   -8.2\n",
       "1    6.3\n",
       "dtype: float64"
      ]
     },
     "execution_count": 11,
     "metadata": {},
     "output_type": "execute_result"
    }
   ],
   "source": [
    "# s2 = pd.Series([-1.2,3.7,2.5,-8.2,6.3],index=[5,4,3,2,1])\n",
    "# 列表是【】，元组是（），字典是{}\n",
    "s2 = pd.Series({5: -1.2, 4: 3.7, 3: 2.5, 2: -8.2, 1: 6.3})\n",
    "s2"
   ]
  },
  {
   "cell_type": "code",
   "execution_count": 16,
   "id": "f51ebbcd-4b66-4576-803b-a212db9bde86",
   "metadata": {},
   "outputs": [
    {
     "name": "stdout",
     "output_type": "stream",
     "text": [
      "6.3\n",
      "3.7\n"
     ]
    }
   ],
   "source": [
    "# 索引\n",
    "print(s2.loc[1])\n",
    "# 相对位置\n",
    "print(s2.iloc[1])"
   ]
  },
  {
   "cell_type": "code",
   "execution_count": 19,
   "id": "22112452-61bf-4bce-a79a-70547f63684d",
   "metadata": {},
   "outputs": [
    {
     "name": "stdout",
     "output_type": "stream",
     "text": [
      "5   -1.2\n",
      "4    3.7\n",
      "3    2.5\n",
      "dtype: float64\n"
     ]
    }
   ],
   "source": [
    "print(s2.loc[5:3])"
   ]
  },
  {
   "cell_type": "code",
   "execution_count": 22,
   "id": "db64bb58-5776-4ad7-80ab-6436b575607a",
   "metadata": {},
   "outputs": [
    {
     "data": {
      "text/plain": [
       "小李   -1.2\n",
       "小陈    3.7\n",
       "小张    2.5\n",
       "小刘   -8.2\n",
       "小马    6.3\n",
       "dtype: float64"
      ]
     },
     "execution_count": 22,
     "metadata": {},
     "output_type": "execute_result"
    }
   ],
   "source": [
    "s3 = pd.Series({\"小李\": -1.2, \"小陈\": 3.7, \"小张\": 2.5, \"小刘\": -8.2, \"小马\": 6.3})\n",
    "s3\n"
   ]
  },
  {
   "cell_type": "code",
   "execution_count": 23,
   "id": "383c1741-d190-4c00-ad31-8bfb7f7297da",
   "metadata": {},
   "outputs": [
    {
     "data": {
      "text/plain": [
       "小李    -1.2\n",
       "小陈     3.7\n",
       "小张    55.0\n",
       "小刘    -8.2\n",
       "小马     6.3\n",
       "dtype: float64"
      ]
     },
     "execution_count": 23,
     "metadata": {},
     "output_type": "execute_result"
    }
   ],
   "source": [
    "s3.loc[\"小张\"] = 55\n",
    "# s3[\"小张\"] = 55\n",
    "s3"
   ]
  },
  {
   "cell_type": "code",
   "execution_count": 28,
   "id": "fb1a686d-d4f9-4687-8e3a-fa296f6169e2",
   "metadata": {},
   "outputs": [
    {
     "name": "stdout",
     "output_type": "stream",
     "text": [
      "小马    6.3\n",
      "dtype: float64\n"
     ]
    }
   ],
   "source": [
    "print(s3[(s3 > 5) & (s3 < 20)])\n"
   ]
  },
  {
   "cell_type": "code",
   "execution_count": null,
   "id": "656d508d-83c4-4402-b122-2d2bfec65961",
   "metadata": {},
   "outputs": [],
   "source": []
  },
  {
   "cell_type": "code",
   "execution_count": null,
   "id": "174c1360-ba25-4ad4-8d29-8ec4977b49ac",
   "metadata": {},
   "outputs": [],
   "source": []
  },
  {
   "cell_type": "code",
   "execution_count": null,
   "id": "8e963dfd-853d-4add-8f36-fa4837c48534",
   "metadata": {},
   "outputs": [],
   "source": []
  },
  {
   "cell_type": "code",
   "execution_count": null,
   "id": "2df54431-b314-4e9a-9686-c0aea19e2677",
   "metadata": {},
   "outputs": [],
   "source": []
  }
 ],
 "metadata": {
  "kernelspec": {
   "display_name": "Python 3 (ipykernel)",
   "language": "python",
   "name": "python3"
  },
  "language_info": {
   "codemirror_mode": {
    "name": "ipython",
    "version": 3
   },
   "file_extension": ".py",
   "mimetype": "text/x-python",
   "name": "python",
   "nbconvert_exporter": "python",
   "pygments_lexer": "ipython3",
   "version": "3.10.1"
  }
 },
 "nbformat": 4,
 "nbformat_minor": 5
}
