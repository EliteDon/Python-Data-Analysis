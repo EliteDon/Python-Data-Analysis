{
 "cells": [
  {
   "cell_type": "code",
   "execution_count": 1,
   "id": "b9911a69-951f-452f-a7e8-e4d39584f2fa",
   "metadata": {},
   "outputs": [
    {
     "name": "stdout",
     "output_type": "stream",
     "text": [
      "hello world\n"
     ]
    }
   ],
   "source": [
    "print(\"hello world\")"
   ]
  },
  {
   "cell_type": "markdown",
   "id": "494228ff-5af7-493c-abd7-38fb34829487",
   "metadata": {},
   "source": [
    "# biaoti"
   ]
  },
  {
   "cell_type": "code",
   "execution_count": 10,
   "id": "a4ae38cc-58af-4ffe-98b0-e1f1e4ed42f3",
   "metadata": {},
   "outputs": [
    {
     "name": "stdout",
     "output_type": "stream",
     "text": [
      "[ 6  2 -7  2  8 -2  1]\n"
     ]
    }
   ],
   "source": [
    "import numpy as np\n",
    "arr1 = np.array([6,2,-7,2,8,-2,1])\n",
    "print(arr1)\n",
    "# arr = np.array([[1,2,3],[4,5,6]])\n",
    "# arr"
   ]
  },
  {
   "cell_type": "code",
   "execution_count": 9,
   "id": "5bad2929-d206-4c44-ae17-0d5ead4e9018",
   "metadata": {},
   "outputs": [
    {
     "data": {
      "text/plain": [
       "array([[1, 2, 3],\n",
       "       [4, 5, 6]])"
      ]
     },
     "execution_count": 9,
     "metadata": {},
     "output_type": "execute_result"
    }
   ],
   "source": [
    "arr = np.array([[1,2,3],[4,5,6]])\n",
    "arr"
   ]
  },
  {
   "cell_type": "code",
   "execution_count": 15,
   "id": "de2ab475-ef51-4885-bdb6-9dba7cc76f24",
   "metadata": {},
   "outputs": [
    {
     "name": "stdout",
     "output_type": "stream",
     "text": [
      "1\n",
      "2\n",
      "(7,)\n",
      "(2, 3)\n",
      "7\n",
      "6\n",
      "int64\n",
      "int64\n"
     ]
    }
   ],
   "source": [
    "print(arr1.ndim)\n",
    "# 维度 ，形状 ， 大小 ， 类型\n",
    "print(arr.ndim)\n",
    "print(arr1.shape)\n",
    "print(arr.shape)\n",
    "print(arr1.size)\n",
    "print(arr.size)\n",
    "print(arr1.dtype)\n",
    "print(arr.dtype)"
   ]
  },
  {
   "cell_type": "code",
   "execution_count": 16,
   "id": "720dc03b-65a1-4b4b-9d0c-73f5123dd6b2",
   "metadata": {},
   "outputs": [
    {
     "data": {
      "text/plain": [
       "array([0., 0., 0., 0., 0., 0.])"
      ]
     },
     "execution_count": 16,
     "metadata": {},
     "output_type": "execute_result"
    }
   ],
   "source": [
    "# 全是0的数组\n",
    "arr3 = np.zeros(6)\n",
    "arr3"
   ]
  },
  {
   "cell_type": "code",
   "execution_count": 17,
   "id": "102c505b-3518-4ab3-9927-481fef537b49",
   "metadata": {},
   "outputs": [
    {
     "data": {
      "text/plain": [
       "array([1., 1., 1., 1., 1., 1.])"
      ]
     },
     "execution_count": 17,
     "metadata": {},
     "output_type": "execute_result"
    }
   ],
   "source": [
    "# 全是1的数组\n",
    "arr4 = np.ones(6)\n",
    "arr4"
   ]
  },
  {
   "cell_type": "code",
   "execution_count": 18,
   "id": "edc1ddb6-d575-481a-86bf-9488a5ae077e",
   "metadata": {},
   "outputs": [
    {
     "data": {
      "text/plain": [
       "array([10, 12, 14, 16, 18, 20])"
      ]
     },
     "execution_count": 18,
     "metadata": {},
     "output_type": "execute_result"
    }
   ],
   "source": [
    "# 创造一个10~20的偶数的数组\n",
    "arr5 = np.arange(10,21,2)\n",
    "arr5"
   ]
  },
  {
   "cell_type": "code",
   "execution_count": 20,
   "id": "4539b751-a255-4c7d-baf3-f06f0cea3414",
   "metadata": {},
   "outputs": [],
   "source": [
    "arr6 = np.array([1,3,2,4,9])\n",
    "arr7 = np.ones(5)\n",
    "arr8 = np.zeros(3)"
   ]
  },
  {
   "cell_type": "code",
   "execution_count": 24,
   "id": "88770bc3-590e-4daa-9aff-218c85dee242",
   "metadata": {},
   "outputs": [
    {
     "data": {
      "text/plain": [
       "array([1., 3., 2., 4., 9., 1., 1., 1., 1., 1., 0., 0., 0.])"
      ]
     },
     "execution_count": 24,
     "metadata": {},
     "output_type": "execute_result"
    }
   ],
   "source": [
    "arr9 = np.concatenate([arr6,arr7,arr8])\n",
    "arr9"
   ]
  },
  {
   "cell_type": "code",
   "execution_count": 25,
   "id": "09dabe78-b9f7-4167-a757-be2a953aff7e",
   "metadata": {},
   "outputs": [
    {
     "data": {
      "text/plain": [
       "array([1, 2, 3, 4, 9])"
      ]
     },
     "execution_count": 25,
     "metadata": {},
     "output_type": "execute_result"
    }
   ],
   "source": [
    "arr6.sort()\n",
    "arr6"
   ]
  },
  {
   "cell_type": "code",
   "execution_count": 30,
   "id": "ad7bc032-0f9e-460b-b537-4ad96f1e402f",
   "metadata": {},
   "outputs": [
    {
     "name": "stdout",
     "output_type": "stream",
     "text": [
      "3\n"
     ]
    }
   ],
   "source": [
    "print(arr6[2])"
   ]
  },
  {
   "cell_type": "code",
   "execution_count": 31,
   "id": "43cc6ea1-268e-48e2-b8ab-198c06e219e0",
   "metadata": {},
   "outputs": [
    {
     "name": "stdout",
     "output_type": "stream",
     "text": [
      "[2 3 4]\n"
     ]
    }
   ],
   "source": [
    "print(arr6[1:4])"
   ]
  },
  {
   "cell_type": "code",
   "execution_count": 32,
   "id": "25d2e6dc-ef21-429c-b545-9ddf1bc2fe60",
   "metadata": {},
   "outputs": [
    {
     "data": {
      "text/plain": [
       "array([ 2.,  3.,  4.,  5., 10.])"
      ]
     },
     "execution_count": 32,
     "metadata": {},
     "output_type": "execute_result"
    }
   ],
   "source": [
    "arr10 = arr6 + arr7\n",
    "arr10"
   ]
  },
  {
   "cell_type": "code",
   "execution_count": 33,
   "id": "cb7b926a-488f-4c3c-a942-fcb69dd3ecfe",
   "metadata": {},
   "outputs": [
    {
     "name": "stdout",
     "output_type": "stream",
     "text": [
      "[ -5 -10 -15 -20 -45]\n"
     ]
    }
   ],
   "source": [
    "print(arr6 * (-5))"
   ]
  },
  {
   "cell_type": "code",
   "execution_count": 35,
   "id": "cebd39d2-62fa-4a23-bb9b-21d873809f84",
   "metadata": {},
   "outputs": [
    {
     "name": "stdout",
     "output_type": "stream",
     "text": [
      "9\n",
      "1\n",
      "19\n",
      "3.8\n"
     ]
    }
   ],
   "source": [
    "print(arr6.max())\n",
    "print(arr6.min())\n",
    "print(arr6.sum())\n",
    "print(arr6.mean())"
   ]
  },
  {
   "cell_type": "code",
   "execution_count": 37,
   "id": "2c91e471-f079-43de-bed2-d7d8a3c37273",
   "metadata": {},
   "outputs": [
    {
     "name": "stdout",
     "output_type": "stream",
     "text": [
      "[4 9]\n"
     ]
    }
   ],
   "source": [
    "print(arr6[(arr6<1) | (arr6>3)])"
   ]
  },
  {
   "cell_type": "code",
   "execution_count": null,
   "id": "1f12ed04-bd85-4ede-b6e6-6f00ab937c82",
   "metadata": {},
   "outputs": [],
   "source": []
  }
 ],
 "metadata": {
  "kernelspec": {
   "display_name": "Python 3 (ipykernel)",
   "language": "python",
   "name": "python3"
  },
  "language_info": {
   "codemirror_mode": {
    "name": "ipython",
    "version": 3
   },
   "file_extension": ".py",
   "mimetype": "text/x-python",
   "name": "python",
   "nbconvert_exporter": "python",
   "pygments_lexer": "ipython3",
   "version": "3.10.1"
  }
 },
 "nbformat": 4,
 "nbformat_minor": 5
}
