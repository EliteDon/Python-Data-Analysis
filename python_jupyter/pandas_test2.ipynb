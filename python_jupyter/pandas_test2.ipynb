{
 "cells": [
  {
   "cell_type": "code",
   "execution_count": 2,
   "id": "312855fe-8005-4614-8f7d-725e6f7855b9",
   "metadata": {},
   "outputs": [],
   "source": [
    "import pandas as pd"
   ]
  },
  {
   "cell_type": "code",
   "execution_count": 5,
   "id": "45ab961a-7135-4a51-99a8-bdcd394d421d",
   "metadata": {},
   "outputs": [
    {
     "data": {
      "text/plain": [
       "小明    92\n",
       "小红    67\n",
       "小杰    70\n",
       "小丽    88\n",
       "小华    78\n",
       "dtype: int64"
      ]
     },
     "execution_count": 5,
     "metadata": {},
     "output_type": "execute_result"
    }
   ],
   "source": [
    "s1 = pd.Series({\"小明\":92, \"小红\":67 ,\"小杰\":70, \"小丽\":88, \"小华\":78})\n",
    "s1\n"
   ]
  },
  {
   "cell_type": "code",
   "execution_count": 3,
   "id": "9878bcc9-cb64-42aa-9961-213d62a5a181",
   "metadata": {},
   "outputs": [
    {
     "data": {
      "text/plain": [
       "小明    95\n",
       "小杰    85\n",
       "小宇    65\n",
       "小娟    60\n",
       "小彤    76\n",
       "dtype: int64"
      ]
     },
     "execution_count": 3,
     "metadata": {},
     "output_type": "execute_result"
    }
   ],
   "source": [
    "s2 = pd.Series({\"小明\":95, \"小杰\":85 ,\"小宇\":65, \"小娟\":60, \"小彤\":76})\n",
    "s2"
   ]
  },
  {
   "cell_type": "code",
   "execution_count": 6,
   "id": "a321d532-d169-4543-ab6f-5f64f4554913",
   "metadata": {},
   "outputs": [
    {
     "data": {
      "text/plain": [
       "小丽     88.0\n",
       "小华     78.0\n",
       "小娟     60.0\n",
       "小宇     65.0\n",
       "小彤     76.0\n",
       "小明    187.0\n",
       "小杰    155.0\n",
       "小红     67.0\n",
       "dtype: float64"
      ]
     },
     "execution_count": 6,
     "metadata": {},
     "output_type": "execute_result"
    }
   ],
   "source": [
    "s1.add(s2,fill_value = 0)\n",
    "# fill_name找不到的时候加的值是多少"
   ]
  },
  {
   "cell_type": "code",
   "execution_count": 9,
   "id": "34b6b074-4cfa-4ddf-94e5-893385e89952",
   "metadata": {},
   "outputs": [
    {
     "data": {
      "text/plain": [
       "count     5.000000\n",
       "mean     79.000000\n",
       "std      10.908712\n",
       "min      67.000000\n",
       "25%      70.000000\n",
       "50%      78.000000\n",
       "75%      88.000000\n",
       "max      92.000000\n",
       "dtype: float64"
      ]
     },
     "execution_count": 9,
     "metadata": {},
     "output_type": "execute_result"
    }
   ],
   "source": [
    "s1.describe()\n"
   ]
  },
  {
   "cell_type": "code",
   "execution_count": 10,
   "id": "b96a9452-2675-4d09-98d4-decc664d6b99",
   "metadata": {},
   "outputs": [
    {
     "data": {
      "text/plain": [
       "小明    97\n",
       "小红    72\n",
       "小杰    75\n",
       "小丽    93\n",
       "小华    83\n",
       "dtype: int64"
      ]
     },
     "execution_count": 10,
     "metadata": {},
     "output_type": "execute_result"
    }
   ],
   "source": [
    "s1 = s1 +5\n",
    "s1"
   ]
  },
  {
   "cell_type": "code",
   "execution_count": 18,
   "id": "baa53a3e-36eb-455d-bb69-c29cb666f81b",
   "metadata": {},
   "outputs": [
    {
     "data": {
      "text/plain": [
       "小明    A\n",
       "小红    C\n",
       "小杰    C\n",
       "小丽    A\n",
       "小华    B\n",
       "dtype: object"
      ]
     },
     "execution_count": 18,
     "metadata": {},
     "output_type": "execute_result"
    }
   ],
   "source": [
    "def get_grade(score):\n",
    "    if score > 90:\n",
    "        return \"A\"\n",
    "    elif score > 80  and  score <= 90:\n",
    "        return \"B\"\n",
    "    else:\n",
    "        return \"C\"\n",
    "\n",
    "s3 = s1.apply(get_grade)\n",
    "s3"
   ]
  },
  {
   "cell_type": "code",
   "execution_count": null,
   "id": "83ddb87b-f59f-4209-8170-c773462ace6c",
   "metadata": {},
   "outputs": [],
   "source": []
  },
  {
   "cell_type": "code",
   "execution_count": null,
   "id": "ffce0925-3898-47e9-967e-b6319216f79b",
   "metadata": {},
   "outputs": [],
   "source": []
  },
  {
   "cell_type": "code",
   "execution_count": null,
   "id": "aab42a89-2199-48c2-808e-dd7945a55551",
   "metadata": {},
   "outputs": [],
   "source": []
  }
 ],
 "metadata": {
  "kernelspec": {
   "display_name": "Python 3 (ipykernel)",
   "language": "python",
   "name": "python3"
  },
  "language_info": {
   "codemirror_mode": {
    "name": "ipython",
    "version": 3
   },
   "file_extension": ".py",
   "mimetype": "text/x-python",
   "name": "python",
   "nbconvert_exporter": "python",
   "pygments_lexer": "ipython3",
   "version": "3.10.1"
  }
 },
 "nbformat": 4,
 "nbformat_minor": 5
}
