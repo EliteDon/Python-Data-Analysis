{
 "cells": [
  {
   "cell_type": "code",
   "execution_count": 1,
   "id": "000790a8-62d4-4f71-95d8-c5dd9e963d6a",
   "metadata": {},
   "outputs": [],
   "source": [
    "import pandas as pd\n",
    "#可以直接转换成dataframe\n",
    "# read_json 和 read_csv\n",
    "# pd.read_csv(\"./fifa_platyers.csv\")\n",
    "# pandas的set_options()设置各种显示参数 info()显示各种信息以及各种参数"
   ]
  },
  {
   "cell_type": "code",
   "execution_count": null,
   "id": "44dc5587-ce3d-4b20-8bb4-6ebbeb1a5e1b",
   "metadata": {},
   "outputs": [],
   "source": []
  },
  {
   "cell_type": "code",
   "execution_count": null,
   "id": "7cf4e27e-104d-4fb0-b79c-d0a91b595420",
   "metadata": {},
   "outputs": [],
   "source": []
  },
  {
   "cell_type": "code",
   "execution_count": null,
   "id": "c2aa9b58-c378-4a59-b831-ba5faa60eade",
   "metadata": {},
   "outputs": [],
   "source": []
  },
  {
   "cell_type": "code",
   "execution_count": null,
   "id": "45e0a4a6-6b28-4119-a61c-e38f05d8940a",
   "metadata": {},
   "outputs": [],
   "source": []
  },
  {
   "cell_type": "code",
   "execution_count": null,
   "id": "6fa8ff7d-c44b-4099-979f-9efca77c9fa1",
   "metadata": {},
   "outputs": [],
   "source": []
  },
  {
   "cell_type": "code",
   "execution_count": null,
   "id": "e0335c20-34a8-4491-8345-a570e0785980",
   "metadata": {},
   "outputs": [],
   "source": []
  },
  {
   "cell_type": "code",
   "execution_count": null,
   "id": "640ec701-580e-4e56-8aea-d95514b22107",
   "metadata": {},
   "outputs": [],
   "source": []
  }
 ],
 "metadata": {
  "kernelspec": {
   "display_name": "Python 3 (ipykernel)",
   "language": "python",
   "name": "python3"
  },
  "language_info": {
   "codemirror_mode": {
    "name": "ipython",
    "version": 3
   },
   "file_extension": ".py",
   "mimetype": "text/x-python",
   "name": "python",
   "nbconvert_exporter": "python",
   "pygments_lexer": "ipython3",
   "version": "3.10.1"
  }
 },
 "nbformat": 4,
 "nbformat_minor": 5
}
